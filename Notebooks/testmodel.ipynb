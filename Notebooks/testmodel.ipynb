{
 "cells": [
  {
   "cell_type": "code",
   "execution_count": 2,
   "metadata": {},
   "outputs": [],
   "source": [
    "import sys\n",
    "import os\n",
    "sys.path.append(os.path.dirname(os.getcwd()))\n",
    "sys.path.append('../Augur')\n",
    "from transformers import (AutoConfig, \n",
    "                          AutoModelForCausalLM, \n",
    "                          AutoTokenizer, \n",
    "                          TextIteratorStreamer, \n",
    "                          BitsAndBytesConfig, \n",
    "                          TextStreamer,\n",
    "                          Conversation, \n",
    "                          pipeline,\n",
    "                          LlamaForCausalLM)\n",
    "import torch\n",
    "\n",
    "from Augur import model"
   ]
  },
  {
   "cell_type": "code",
   "execution_count": 3,
   "metadata": {},
   "outputs": [],
   "source": [
    "os.environ[\"HF_HUB_ENABLE_HF_TRANSFER\"] = \"1\""
   ]
  },
  {
   "cell_type": "code",
   "execution_count": 3,
   "metadata": {},
   "outputs": [],
   "source": [
    "def load_quant_model(model_id):\n",
    "    # This requires the `bitsandbytes` library\n",
    "    bnb_config = BitsAndBytesConfig(\n",
    "        load_in_4bit=True,\n",
    "        bnb_4bit_quant_type='nf4',\n",
    "        bnb_4bit_use_double_quant=True,\n",
    "        bnb_4bit_compute_dtype=torch.bfloat16\n",
    "    )\n",
    "\n",
    "    model_config = AutoConfig.from_pretrained(model_id)\n",
    "\n",
    "    _model = model.AugurLlamaModel.from_pretrained(\n",
    "        model_id,\n",
    "        trust_remote_code=True,\n",
    "        config=model_config,\n",
    "        quantization_config=bnb_config,\n",
    "        device_map='auto',\n",
    "    )\n",
    "    tokenizer = AutoTokenizer.from_pretrained(model_id)\n",
    "\n",
    "    return _model, tokenizer"
   ]
  },
  {
   "cell_type": "code",
   "execution_count": 4,
   "metadata": {},
   "outputs": [
    {
     "name": "stderr",
     "output_type": "stream",
     "text": [
      "The argument `trust_remote_code` is to be used with Auto classes. It has no effect here and is ignored.\n"
     ]
    },
    {
     "data": {
      "application/vnd.jupyter.widget-view+json": {
       "model_id": "9d289d96325d44619e97f370ff40153d",
       "version_major": 2,
       "version_minor": 0
      },
      "text/plain": [
       "Loading checkpoint shards:   0%|          | 0/3 [00:00<?, ?it/s]"
      ]
     },
     "metadata": {},
     "output_type": "display_data"
    }
   ],
   "source": [
    "models, tokenizer = load_quant_model('codellama/CodeLlama-13b-Instruct-hf')"
   ]
  },
  {
   "cell_type": "markdown",
   "metadata": {},
   "source": [
    "# Beam search"
   ]
  },
  {
   "cell_type": "code",
   "execution_count": 5,
   "metadata": {},
   "outputs": [
    {
     "name": "stderr",
     "output_type": "stream",
     "text": [
      "The attention mask and the pad token id were not set. As a consequence, you may observe unexpected behavior. Please pass your input's `attention_mask` to obtain reliable results.\n",
      "Setting `pad_token_id` to `eos_token_id`:2 for open-end generation.\n",
      "/opt/conda/lib/python3.10/site-packages/transformers/generation/utils.py:1133: UserWarning: Using the model-agnostic default `max_length` (=20) to control the generation length. We recommend setting `max_new_tokens` to control the maximum length of the generation.\n",
      "  warnings.warn(\n"
     ]
    }
   ],
   "source": [
    "output = models.generate(do_sample=True, num_beams=3, num_beam_groups=1, num_return_sequences=3, diversity_penalty=0.0)"
   ]
  },
  {
   "cell_type": "code",
   "execution_count": 7,
   "metadata": {},
   "outputs": [
    {
     "name": "stderr",
     "output_type": "stream",
     "text": [
      "The model 'AugurLlamaModel' is not supported for text-generation. Supported models are ['BartForCausalLM', 'BertLMHeadModel', 'BertGenerationDecoder', 'BigBirdForCausalLM', 'BigBirdPegasusForCausalLM', 'BioGptForCausalLM', 'BlenderbotForCausalLM', 'BlenderbotSmallForCausalLM', 'BloomForCausalLM', 'CamembertForCausalLM', 'LlamaForCausalLM', 'CodeGenForCausalLM', 'CpmAntForCausalLM', 'CTRLLMHeadModel', 'Data2VecTextForCausalLM', 'ElectraForCausalLM', 'ErnieForCausalLM', 'FalconForCausalLM', 'FuyuForCausalLM', 'GemmaForCausalLM', 'GitForCausalLM', 'GPT2LMHeadModel', 'GPT2LMHeadModel', 'GPTBigCodeForCausalLM', 'GPTNeoForCausalLM', 'GPTNeoXForCausalLM', 'GPTNeoXJapaneseForCausalLM', 'GPTJForCausalLM', 'LlamaForCausalLM', 'MarianForCausalLM', 'MBartForCausalLM', 'MegaForCausalLM', 'MegatronBertForCausalLM', 'MistralForCausalLM', 'MixtralForCausalLM', 'MptForCausalLM', 'MusicgenForCausalLM', 'MvpForCausalLM', 'OpenLlamaForCausalLM', 'OpenAIGPTLMHeadModel', 'OPTForCausalLM', 'PegasusForCausalLM', 'PersimmonForCausalLM', 'PhiForCausalLM', 'PLBartForCausalLM', 'ProphetNetForCausalLM', 'QDQBertLMHeadModel', 'Qwen2ForCausalLM', 'ReformerModelWithLMHead', 'RemBertForCausalLM', 'RobertaForCausalLM', 'RobertaPreLayerNormForCausalLM', 'RoCBertForCausalLM', 'RoFormerForCausalLM', 'RwkvForCausalLM', 'Speech2Text2ForCausalLM', 'StableLmForCausalLM', 'TransfoXLLMHeadModel', 'TrOCRForCausalLM', 'WhisperForCausalLM', 'XGLMForCausalLM', 'XLMWithLMHeadModel', 'XLMProphetNetForCausalLM', 'XLMRobertaForCausalLM', 'XLMRobertaXLForCausalLM', 'XLNetLMHeadModel', 'XmodForCausalLM'].\n"
     ]
    }
   ],
   "source": [
    "pipe = pipeline('text-generation', model=models, tokenizer=tokenizer)"
   ]
  },
  {
   "cell_type": "code",
   "execution_count": 5,
   "metadata": {},
   "outputs": [],
   "source": [
    "answer = tokenizer.decode(tokenizer.apply_chat_template([{'role':'user', 'content':'generate the dbpedia sparql code that answer the following question: retrieve all the authors of the book harry potter'}]))"
   ]
  },
  {
   "cell_type": "markdown",
   "metadata": {},
   "source": [
    "# Sampling"
   ]
  },
  {
   "cell_type": "code",
   "execution_count": 14,
   "metadata": {},
   "outputs": [],
   "source": [
    "streamer = TextStreamer(tokenizer=tokenizer)"
   ]
  },
  {
   "cell_type": "code",
   "execution_count": 17,
   "metadata": {},
   "outputs": [],
   "source": [
    "pipe = pipeline('conversational', model=models, tokenizer=tokenizer, streamer=streamer)"
   ]
  },
  {
   "cell_type": "code",
   "execution_count": null,
   "metadata": {},
   "outputs": [],
   "source": [
    "from rdflib import Graph\n",
    "import re"
   ]
  },
  {
   "cell_type": "code",
   "execution_count": 220,
   "metadata": {},
   "outputs": [],
   "source": [
    "def get_queries(prompt, temperature=1.0, n_times=4):\n",
    "    pipe_output = []\n",
    "    for _ in range(n_times):\n",
    "        conver = Conversation()\n",
    "        system = (\"You are a helpful, respectful and honest assistant expert coding\"\n",
    "                  \" in SparQL, ontologies and semantic web. Always DO answer the code in SparQL that retrieves the \"\n",
    "                  \"information asked. DO ALWAYS return a query. DO enclose the code in a code block:\\n```\\ncode\\n```\\n).\\n\"\n",
    "                 )  \n",
    "        conver.add_message({'role':'system', 'content': system})\n",
    "        conver.add_user_input(f\"# Write the SparQL code that retrieves the answer to ONLY this request: {prompt}.\\n\\n\")\n",
    "        pipe_output.append(pipe(conver, max_length=1000, do_sample=True, temperature=temperature).generated_responses[-1])\n",
    "    return pipe_output"
   ]
  },
  {
   "cell_type": "code",
   "execution_count": 73,
   "metadata": {},
   "outputs": [],
   "source": [
    "def capture_code(text): \n",
    "    code_pattern = r\"```(?:sparql|SPARQL)?(.*?)```\"\n",
    "    code = re.findall(code_pattern, text, re.DOTALL)\n",
    "    return code[0] if code else \"None\""
   ]
  },
  {
   "cell_type": "code",
   "execution_count": 128,
   "metadata": {},
   "outputs": [],
   "source": [
    "# Function to replace prefixed names with their full URIs\n",
    "def replace_prefixed_names_with_uris(query):\n",
    "    if not re.search(\"PREFIX\", query):\n",
    "        return query\n",
    "    # Extract prefixes and their URIs\n",
    "    prefix_pattern = r\"\\s*PREFIX\\s*?([a-zA-Z0-9_\\-]+):\\s*?<([^>]+)>\"\n",
    "    prefixes = dict(re.findall(prefix_pattern, query))\n",
    "    \n",
    "    # Pattern to match prefixed names (simple version, might need refinement)\n",
    "    prefixed_name_pattern = r'\\b(' + '|'.join(prefixes.keys()) + r'):([a-zA-Z0-9_\\-]+)'\n",
    "\n",
    "    # Function to replace match with full URI\n",
    "    def repl(match):\n",
    "        prefix, local_part = match.groups()\n",
    "        return f\"<{prefixes[prefix]}{local_part}>\"\n",
    "\n",
    "    # Replace all occurrences of prefixed names in the query\n",
    "    query = re.sub(\".*PREFIX.*\\n+\", \"\", query)\n",
    "    return re.sub(prefixed_name_pattern, repl, query)"
   ]
  },
  {
   "cell_type": "code",
   "execution_count": 114,
   "metadata": {},
   "outputs": [],
   "source": [
    "def extract_identifiers(resolved_query):\n",
    "    uri_pattern = r'<(http[s]?://[^ >]*dbpedia\\.org[^ >]*)>'\n",
    "    \n",
    "    # Use regex to find all URIs in the SPARQL query\n",
    "    uris = re.findall(uri_pattern, resolved_query, re.I)\n",
    "\n",
    "    return set(uris)"
   ]
  },
  {
   "cell_type": "code",
   "execution_count": 115,
   "metadata": {},
   "outputs": [],
   "source": [
    "def parse_ontology(ontology_path):\n",
    "    name = ontology_path.split(\"/\")[-1].split(\"_\")[0]\n",
    "    return name"
   ]
  },
  {
   "cell_type": "code",
   "execution_count": 226,
   "metadata": {},
   "outputs": [],
   "source": [
    "def count_common_elements(list_of_sets):\n",
    "    num_sets = len(list_of_sets)\n",
    "    common_elements_count = [0] * num_sets\n",
    "    \n",
    "    for i in range(num_sets):\n",
    "        for j in range(num_sets):\n",
    "            if i != j:  # Skip comparing the set with itself\n",
    "                common_elements_count[i] += len(list_of_sets[i].intersection(list_of_sets[j]))\n",
    "    return common_elements_count"
   ]
  },
  {
   "cell_type": "code",
   "execution_count": 266,
   "metadata": {},
   "outputs": [],
   "source": [
    "def get_max_indexes(lst):\n",
    "    if not lst:\n",
    "        return []  # Return an empty list if input list is empty\n",
    "    max_val = max(lst)\n",
    "    return [i for i, val in enumerate(lst) if val == max_val]"
   ]
  },
  {
   "cell_type": "code",
   "execution_count": 289,
   "metadata": {},
   "outputs": [],
   "source": [
    "def self_consistency(queries_list, ontology_path):\n",
    "    ontology = Graph().parse(ontology_path)\n",
    "    ontology = {str(element) for triple in ontology for element in triple if 'http://dbpedia.org/' in element}\n",
    "    \n",
    "    captured_code = [capture_code(query) for query in queries_list]\n",
    "    parsed_code = [replace_prefixed_names_with_uris(query) for query in captured_code]\n",
    "    extracted_identifiers = [extract_identifiers(code) for code in parsed_code]\n",
    "\n",
    "    agreement = count_common_elements(extracted_identifiers)\n",
    "    max_index = get_max_indexes(agreement)\n",
    "    if max_index != 1:\n",
    "        candidates = [extracted_identifiers[idx] for idx in max_index]\n",
    "        consistency = [len(query_uri & ontology) for query_uri in candidates]\n",
    "        max_index = get_max_indexes(consistency)\n",
    "        if max_index != 1:\n",
    "            return captured_code[random.choice(max_index)]\n",
    "    return captured_code[max_index]"
   ]
  },
  {
   "cell_type": "code",
   "execution_count": 116,
   "metadata": {},
   "outputs": [],
   "source": [
    "ontology_path = '../datafiles/dbpedia_2016-10.owl'"
   ]
  },
  {
   "cell_type": "code",
   "execution_count": 195,
   "metadata": {},
   "outputs": [],
   "source": [
    "user_prompt = 'Which sects people are part of local political parties which fall under the International Muslim Brotherhood?'"
   ]
  },
  {
   "cell_type": "code",
   "execution_count": 239,
   "metadata": {},
   "outputs": [],
   "source": [
    "user_prompt = 'Give me all the names of the authors of the Harry Potter books on dbpedia'"
   ]
  },
  {
   "cell_type": "code",
   "execution_count": 240,
   "metadata": {
    "scrolled": true
   },
   "outputs": [
    {
     "name": "stderr",
     "output_type": "stream",
     "text": [
      "The attention mask and the pad token id were not set. As a consequence, you may observe unexpected behavior. Please pass your input's `attention_mask` to obtain reliable results.\n",
      "Setting `pad_token_id` to `eos_token_id`:2 for open-end generation.\n"
     ]
    },
    {
     "name": "stdout",
     "output_type": "stream",
     "text": [
      "<s> [INST] <<SYS>>\n",
      "You are a helpful, respectful and honest assistant expert coding in SparQL, ontologies and semantic web. Always DO answer the code in SparQL that retrieves the information asked. DO ALWAYS return a query. DO enclose the code in a code block:\n",
      "```\n",
      "code\n",
      "```\n",
      ").\n",
      "\n",
      "<</SYS>>\n",
      "\n",
      "# Write the SparQL code that retrieves the answer to ONLY this request: Give me all the names of the authors of the Harry Potter books on dbpedia. [/INST]  ```\n",
      "PREFIX dbpedia: <http://dbpedia.org/ontology/>\n",
      "\n",
      "SELECT ?author_name\n",
      "WHERE {\n",
      " ?book dbpedia:author ?author .\n",
      " ?author dbpedia:name ?author_name .\n",
      " ?book dbpedia:title \"Harry Potter\" .\n",
      "}\n",
      "```\n",
      "This SPARQL query uses the DBpedia ontology to retrieve the information about Harry Potter books. The query searches for books that have \"Harry Potter\" in their title, and then retrieves the name of each author as an output.</s>\n"
     ]
    },
    {
     "name": "stderr",
     "output_type": "stream",
     "text": [
      "The attention mask and the pad token id were not set. As a consequence, you may observe unexpected behavior. Please pass your input's `attention_mask` to obtain reliable results.\n",
      "Setting `pad_token_id` to `eos_token_id`:2 for open-end generation.\n"
     ]
    },
    {
     "name": "stdout",
     "output_type": "stream",
     "text": [
      "<s> [INST] <<SYS>>\n",
      "You are a helpful, respectful and honest assistant expert coding in SparQL, ontologies and semantic web. Always DO answer the code in SparQL that retrieves the information asked. DO ALWAYS return a query. DO enclose the code in a code block:\n",
      "```\n",
      "code\n",
      "```\n",
      ").\n",
      "\n",
      "<</SYS>>\n",
      "\n",
      "# Write the SparQL code that retrieves the answer to ONLY this request: Give me all the names of the authors of the Harry Potter books on dbpedia. [/INST]  ```sparql\n",
      "SELECT ?authorName\n",
      "WHERE {\n",
      " ?book dbpedia-owl:author ?author .\n",
      " ?author rdfs:label ?authorName .\n",
      " FILTER (?book = dbpedia:Harry_Potter)\n",
      "}\n",
      "```\n",
      "This SparQL query retrieves the names of the authors of the Harry Potter books from DBpedia using the dbpedia-owl ontology. The query filters the results to only include authors of the Harry Potter books, which are denoted by the URI `dbpedia:Harry_Potter`. The `rdfs:label` property is used to retrieve the name of each author. The resulting query returns a list of the names of the authors of the Harry Potter books on DBpedia.</s>\n"
     ]
    },
    {
     "name": "stderr",
     "output_type": "stream",
     "text": [
      "The attention mask and the pad token id were not set. As a consequence, you may observe unexpected behavior. Please pass your input's `attention_mask` to obtain reliable results.\n",
      "Setting `pad_token_id` to `eos_token_id`:2 for open-end generation.\n"
     ]
    },
    {
     "name": "stdout",
     "output_type": "stream",
     "text": [
      "<s> [INST] <<SYS>>\n",
      "You are a helpful, respectful and honest assistant expert coding in SparQL, ontologies and semantic web. Always DO answer the code in SparQL that retrieves the information asked. DO ALWAYS return a query. DO enclose the code in a code block:\n",
      "```\n",
      "code\n",
      "```\n",
      ").\n",
      "\n",
      "<</SYS>>\n",
      "\n",
      "# Write the SparQL code that retrieves the answer to ONLY this request: Give me all the names of the authors of the Harry Potter books on dbpedia. [/INST]  ```\n",
      "PREFIX dbpediaOnt: <http://dbpedia.org/ontology/>\n",
      "SELECT ?authorName\n",
      "WHERE {\n",
      " ?book rdf:type dbpediaOnt:Book ;\n",
      "       dbpediaOnt:author ?author .\n",
      " ?author rdf:type dbpediaOnt:Person ;\n",
      "         foaf:name ?authorName .\n",
      " FILTER (str(?book) = \"http://dbpedia.org/ontology/Book\")\n",
      "}\n",
      "```\n",
      "This code retrieves all the names of the authors of the Harry Potter books on dbpedia. It uses the `dbpediaOnt:Book` and `dbpediaOnt:author` properties to filter the results, and the `foaf:name` property to retrieve the author names. The `FILTER` function is used to ensure that only books with the exact title \"Harry Potter\" are retrieved.</s>\n"
     ]
    },
    {
     "name": "stderr",
     "output_type": "stream",
     "text": [
      "The attention mask and the pad token id were not set. As a consequence, you may observe unexpected behavior. Please pass your input's `attention_mask` to obtain reliable results.\n",
      "Setting `pad_token_id` to `eos_token_id`:2 for open-end generation.\n"
     ]
    },
    {
     "name": "stdout",
     "output_type": "stream",
     "text": [
      "<s> [INST] <<SYS>>\n",
      "You are a helpful, respectful and honest assistant expert coding in SparQL, ontologies and semantic web. Always DO answer the code in SparQL that retrieves the information asked. DO ALWAYS return a query. DO enclose the code in a code block:\n",
      "```\n",
      "code\n",
      "```\n",
      ").\n",
      "\n",
      "<</SYS>>\n",
      "\n",
      "# Write the SparQL code that retrieves the answer to ONLY this request: Give me all the names of the authors of the Harry Potter books on dbpedia. [/INST]  ```\n",
      "PREFIX dbpedia: <http://dbpedia.org/ontology/>\n",
      "SELECT DISTINCT ?author\n",
      "WHERE {\n",
      " ?book dbpedia:bookAuthor ?author .\n",
      " VALUES ?title { \"Harry Potter and the Philosopher's Stone\"@en \"Harry Potter and the Sorcerer's Stone\"@en \"Harry Potter and the Prisoner of Azkaban\"@en \"Harry Potter and the Goblet of Fire\"@en \"Harry Potter and the Order of the Phoenix\"@en \"Harry Potter and the Half-Blood Prince\"@en \"Harry Potter and the Deathly Hallows\"@en \"Harry Potter and the Cursed Child\"@en \"Harry Potter and the Chamber of Secrets\"@en \"Harry Potter and the Sorcerer's Stone\"@en \"Harry Potter and the Prisoner of Azkaban\"@en \"Harry Potter and the Goblet of Fire\"@en \"Harry Potter and the Order of the Phoenix\"@en \"Harry Potter and the Half-Blood Prince\"@en \"Harry Potter and the Deathly Hallows\"@en \"Harry Potter and the Cursed Child\"@en \"Harry Potter and the Chamber of Secrets\"@en \"Harry Potter and the Sorcerer's Stone\"@en \"Harry Potter and the Prisoner of Azkaban\"@en \"Harry Potter and the Goblet of Fire\"@en \"Harry Potter and the Order of the Phoenix\"@en \"Harry Potter and the Half-Blood Prince\"@en \"Harry Potter and the Deathly Hallows\"@en \"Harry Potter and the Cursed Child\"@en \"Harry Potter and the Chamber of Secrets\"@en \"Harry Potter and the Sorcerer's Stone\"@en \"Harry Potter and the Prisoner of Azkaban\"@en \"Harry Potter and the Goblet of Fire\"@en \"Harry Potter and the Order of the Phoenix\"@en \"Harry Potter and the Half-Blood Prince\"@en \"Harry Potter and the Deathly Hallows\"@en \"Harry Potter and the Cursed Child\"@en \"Harry Potter and the Chamber of Secrets\"@en \"Harry Potter and the Sorcerer's Stone\"@en \"Harry Potter and the Prisoner of Azkaban\"@en \"Harry Potter and the Goblet of Fire\"@en \"Harry Potter and the Order of the Phoenix\"@en \"Harry Potter and the Half-Blood Prince\"@en \"Harry Potter and the Deathly Hallows\"@en \"Harry Potter and the Cursed Child\"@en \"Harry Potter and the Chamber of Secrets\"@en \"Harry Potter and the Sorcerer's Stone\"@en \"Harry Potter and the Prisoner of Azkaban\"@en \"Harry Potter and the Goblet of Fire\"@en \"Harry Potter and the Order of the Phoenix\"@en \"Harry Potter and the Half-Blood Prince\"@en \"Harry Potter and the Deathly Hallows\"@en \"Harry Potter and the Cursed Child\"@en \"Harry Potter and the Chamber of Secrets\" }\n",
      "}\n",
      "```</s>\n"
     ]
    }
   ],
   "source": [
    "pipe_outputs = get_queries(user_prompt, temperature=1, n_times=4)"
   ]
  },
  {
   "cell_type": "markdown",
   "metadata": {},
   "source": [
    "# Parse SPARQL"
   ]
  },
  {
   "cell_type": "code",
   "execution_count": 288,
   "metadata": {},
   "outputs": [
    {
     "data": {
      "text/plain": [
       "('\\nSELECT?authorName\\nWHERE {\\n ?book dbpedia-owl:author?author.\\n ?author rdfs:label?authorName.\\n  FILTER (?book = dbpedia:Harry_Potter)\\n}\\n',\n",
       " [0, 1])"
      ]
     },
     "execution_count": 288,
     "metadata": {},
     "output_type": "execute_result"
    }
   ],
   "source": [
    "self_consistency(pipe_outputs, ontology_path)"
   ]
  },
  {
   "cell_type": "code",
   "execution_count": 268,
   "metadata": {},
   "outputs": [
    {
     "data": {
      "text/plain": [
       "2"
      ]
     },
     "execution_count": 268,
     "metadata": {},
     "output_type": "execute_result"
    }
   ],
   "source": [
    "import random"
   ]
  },
  {
   "cell_type": "code",
   "execution_count": 283,
   "metadata": {},
   "outputs": [
    {
     "data": {
      "text/plain": [
       "0"
      ]
     },
     "execution_count": 283,
     "metadata": {},
     "output_type": "execute_result"
    }
   ],
   "source": [
    "random.choice(get_max_indexes(test))"
   ]
  },
  {
   "cell_type": "markdown",
   "metadata": {},
   "source": [
    "# Tests"
   ]
  },
  {
   "cell_type": "code",
   "execution_count": 217,
   "metadata": {},
   "outputs": [
    {
     "name": "stdout",
     "output_type": "stream",
     "text": [
      " Here is the SparQL code that retrieves the information you requested:\n",
      "```\n",
      "PREFIX rdf: <http://www.w3.org/1999/02/22-rdf-syntax-ns#>\n",
      "PREFIX rdfs: <http://www.w3.org/2000/01/rdf-schema#>\n",
      "PREFIX xsd: <http://www.w3.org/2001/XMLSchema#>\n",
      "PREFIX owl: <http://www.w3.org/2002/07/owl#>\n",
      "PREFIX dbpedia-owl: <http://dbpedia.org/ontology/>\n",
      "PREFIX dbpprop: <http://dbpedia.org/property/>\n",
      "\n",
      "SELECT?party?participant\n",
      "WHERE {\n",
      " ?party a dbpedia-owl:PoliticalParty.\n",
      " ?party dbpprop:parentOrganization?organization.\n",
      " ?organization a dbpedia-owl:InternationalMuslimBrotherhood.\n",
      " ?participant a dbpedia-owl:Person.\n",
      " ?participant dbpprop:memberOf?party.\n",
      "}\n",
      "```\n",
      "This query retrieves the following information:\n",
      "\n",
      "* The name of the political party (`?party`)\n",
      "* The name of the person who is a member of the party (`?participant`)\n",
      "\n",
      "Note that this query assumes that the names of the political parties and the people are represented in the DBpedia ontology using the `dbpedia-owl:PoliticalParty` and `dbpedia-owl:Person` classes, respectively. If the names are represented using a different ontology or property, you will need to adjust the query accordingly.\n"
     ]
    }
   ],
   "source": [
    "print(pipe_outputs[3])"
   ]
  },
  {
   "cell_type": "code",
   "execution_count": 172,
   "metadata": {},
   "outputs": [
    {
     "name": "stdout",
     "output_type": "stream",
     "text": [
      " ```\n",
      "PREFIX wikidata: <https://www.wikidata.org/wiki/Special:EntitySchemaText/Wikidata-Query>\n",
      "\n",
      "SELECT DISTINCT?architect?tenant\n",
      "WHERE {\n",
      " ?architect wdt:P569?tenant ; a wdt:P31/wdt:P279* wd:Q1401770.\n",
      " ?tenant wdt:P31 wd:Q2521085.\n",
      "  FILTER(?architect!=?tenant)\n",
      "}\n",
      "```\n",
      "This SparQL code retrieves the architect of Marine Corps Air Station Kaneohe Bay who was also a tenant of the New Sanno hotel. The `?architect` variable is bound to the architect of the air station, and the `?tenant` variable is bound to the tenant of the hotel. The query uses the `wdt:P569` property to get the architect of the air station, and the `wdt:P31/wdt:P279*` property to get the tenants of the hotel. The `FILTER` statement is used to exclude the architect from the results, as it is the same as the value of the `?architect` variable.\n",
      " This question can be answered using the DBpedia dataset, which has information about the architects and tenants of various buildings. Here's an example SparQL query that retrieves the information you're looking for:\n",
      "```\n",
      "PREFIX dbpedia-owl: <http://dbpedia.org/ontology/>\n",
      "PREFIX dbpprop: <http://dbpedia.org/property/>\n",
      "\n",
      "SELECT?architect?tenant\n",
      "WHERE {\n",
      " ?building dbpedia-owl:architect?architect.\n",
      " ?building dbpprop:tenant?tenant.\n",
      "  FILTER (?architect = dbpedia:Lee_Otto_Jr.)\n",
      "  FILTER (?tenant = dbpedia:New_Sanno_hotel)\n",
      "}\n",
      "```\n",
      "This query retrieves the architect of Marine Corps Air Station Kaneohe Bay (which is the building you're interested in) and the tenant of the New Sanno hotel. It does this by using the `dbpedia-owl:architect` and `dbpprop:tenant` properties to retrieve the information about the architect and tenant of the building, respectively. The `FILTER` clauses are used to restrict the results to the specific architect and tenant that you're looking for.\n",
      "\n",
      "You can run this query in [DBpedia-OWL Workbench](http://dbpedia-owl-workbench.net/) to see the results.\n"
     ]
    },
    {
     "data": {
      "text/plain": [
       "[None, None]"
      ]
     },
     "execution_count": 172,
     "metadata": {},
     "output_type": "execute_result"
    }
   ],
   "source": [
    "[print(q) for q in pipe_outputs[-2:]]"
   ]
  },
  {
   "cell_type": "code",
   "execution_count": 163,
   "metadata": {},
   "outputs": [],
   "source": [
    "ontology = Graph().parse(ontology_path)\n",
    "ontology = {str(element) for triple in ontology for element in triple if 'http://dbpedia.org/' in element}"
   ]
  },
  {
   "cell_type": "code",
   "execution_count": 167,
   "metadata": {},
   "outputs": [
    {
     "data": {
      "text/plain": [
       "True"
      ]
     },
     "execution_count": 167,
     "metadata": {},
     "output_type": "execute_result"
    }
   ],
   "source": [
    "\"http://dbpedia.org/ontology/architect\" in ontology"
   ]
  },
  {
   "cell_type": "code",
   "execution_count": 170,
   "metadata": {},
   "outputs": [
    {
     "data": {
      "text/plain": [
       "False"
      ]
     },
     "execution_count": 170,
     "metadata": {},
     "output_type": "execute_result"
    }
   ],
   "source": [
    "\"http://dbpedia.org/property/tenant\" in ontology"
   ]
  },
  {
   "cell_type": "code",
   "execution_count": 171,
   "metadata": {},
   "outputs": [
    {
     "data": {
      "text/plain": [
       "'SELECT DISTINCT ?uri WHERE { <http://dbpedia.org/resource/Marine_Corps_Air_Station_Kaneohe_Bay> <http://dbpedia.org/property/architect> ?uri. <http://dbpedia.org/resource/New_Sanno_Hotel> <http://dbpedia.org/ontology/tenant> ?uri}'"
      ]
     },
     "execution_count": 171,
     "metadata": {},
     "output_type": "execute_result"
    }
   ],
   "source": [
    "\"SELECT DISTINCT ?uri WHERE { <http://dbpedia.org/resource/Marine_Corps_Air_Station_Kaneohe_Bay> <http://dbpedia.org/property/architect> ?uri. <http://dbpedia.org/resource/New_Sanno_Hotel> <http://dbpedia.org/ontology/tenant> ?uri}\""
   ]
  },
  {
   "cell_type": "code",
   "execution_count": null,
   "metadata": {},
   "outputs": [],
   "source": []
  }
 ],
 "metadata": {
  "kernelspec": {
   "display_name": "Python 3 (ipykernel)",
   "language": "python",
   "name": "python3"
  },
  "language_info": {
   "codemirror_mode": {
    "name": "ipython",
    "version": 3
   },
   "file_extension": ".py",
   "mimetype": "text/x-python",
   "name": "python",
   "nbconvert_exporter": "python",
   "pygments_lexer": "ipython3",
   "version": "3.11.8"
  }
 },
 "nbformat": 4,
 "nbformat_minor": 4
}
