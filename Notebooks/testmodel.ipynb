{
 "cells": [
  {
   "cell_type": "code",
   "execution_count": 1,
   "metadata": {},
   "outputs": [],
   "source": [
    "import sys\n",
    "import os\n",
    "sys.path.append(os.path.dirname(os.getcwd()))\n",
    "sys.path.append('../Augur')\n",
    "from transformers import (AutoConfig, \n",
    "                          AutoModelForCausalLM, \n",
    "                          AutoTokenizer, \n",
    "                          TextIteratorStreamer, \n",
    "                          BitsAndBytesConfig, \n",
    "                          TextStreamer,\n",
    "                          Conversation, \n",
    "                          pipeline,\n",
    "                          LlamaForCausalLM)\n",
    "import torch\n",
    "\n",
    "from Augur import model"
   ]
  },
  {
   "cell_type": "code",
   "execution_count": 2,
   "metadata": {},
   "outputs": [],
   "source": [
    "def load_quant_model(model_id):\n",
    "    # This requires the `bitsandbytes` library\n",
    "    bnb_config = BitsAndBytesConfig(\n",
    "        load_in_4bit=True,\n",
    "        bnb_4bit_quant_type='nf4',\n",
    "        bnb_4bit_use_double_quant=True,\n",
    "        bnb_4bit_compute_dtype=torch.bfloat16\n",
    "    )\n",
    "\n",
    "    model_config = AutoConfig.from_pretrained(model_id)\n",
    "\n",
    "    _model = model.AugurLlamaModel.from_pretrained(\n",
    "        model_id,\n",
    "        trust_remote_code=True,\n",
    "        config=model_config,\n",
    "        quantization_config=bnb_config,\n",
    "        device_map='auto',\n",
    "    )\n",
    "    tokenizer = AutoTokenizer.from_pretrained(model_id)\n",
    "\n",
    "    return _model, tokenizer"
   ]
  },
  {
   "cell_type": "code",
   "execution_count": 3,
   "metadata": {},
   "outputs": [
    {
     "name": "stderr",
     "output_type": "stream",
     "text": [
      "The argument `trust_remote_code` is to be used with Auto classes. It has no effect here and is ignored.\n"
     ]
    },
    {
     "data": {
      "application/vnd.jupyter.widget-view+json": {
       "model_id": "2cec36d99a36442193beef229055c33a",
       "version_major": 2,
       "version_minor": 0
      },
      "text/plain": [
       "Loading checkpoint shards:   0%|          | 0/3 [00:00<?, ?it/s]"
      ]
     },
     "metadata": {},
     "output_type": "display_data"
    }
   ],
   "source": [
    "models, tokenizer = load_quant_model('codellama/CodeLlama-13b-Instruct-hf')"
   ]
  },
  {
   "cell_type": "code",
   "execution_count": 20,
   "metadata": {},
   "outputs": [
    {
     "name": "stderr",
     "output_type": "stream",
     "text": [
      "The attention mask and the pad token id were not set. As a consequence, you may observe unexpected behavior. Please pass your input's `attention_mask` to obtain reliable results.\n",
      "Setting `pad_token_id` to `eos_token_id`:2 for open-end generation.\n",
      "/opt/conda/lib/python3.10/site-packages/transformers/generation/utils.py:1133: UserWarning: Using the model-agnostic default `max_length` (=20) to control the generation length. We recommend setting `max_new_tokens` to control the maximum length of the generation.\n",
      "  warnings.warn(\n"
     ]
    }
   ],
   "source": [
    "output = models.generate(do_sample=True, num_beams=3, num_beam_groups=1, num_return_sequences=3, diversity_penalty=0.0)"
   ]
  },
  {
   "cell_type": "code",
   "execution_count": 39,
   "metadata": {},
   "outputs": [
    {
     "name": "stderr",
     "output_type": "stream",
     "text": [
      "The model 'AugurLlamaModel' is not supported for text-generation. Supported models are ['BartForCausalLM', 'BertLMHeadModel', 'BertGenerationDecoder', 'BigBirdForCausalLM', 'BigBirdPegasusForCausalLM', 'BioGptForCausalLM', 'BlenderbotForCausalLM', 'BlenderbotSmallForCausalLM', 'BloomForCausalLM', 'CamembertForCausalLM', 'LlamaForCausalLM', 'CodeGenForCausalLM', 'CpmAntForCausalLM', 'CTRLLMHeadModel', 'Data2VecTextForCausalLM', 'ElectraForCausalLM', 'ErnieForCausalLM', 'FalconForCausalLM', 'FuyuForCausalLM', 'GitForCausalLM', 'GPT2LMHeadModel', 'GPT2LMHeadModel', 'GPTBigCodeForCausalLM', 'GPTNeoForCausalLM', 'GPTNeoXForCausalLM', 'GPTNeoXJapaneseForCausalLM', 'GPTJForCausalLM', 'LlamaForCausalLM', 'MarianForCausalLM', 'MBartForCausalLM', 'MegaForCausalLM', 'MegatronBertForCausalLM', 'MistralForCausalLM', 'MixtralForCausalLM', 'MptForCausalLM', 'MusicgenForCausalLM', 'MvpForCausalLM', 'OpenLlamaForCausalLM', 'OpenAIGPTLMHeadModel', 'OPTForCausalLM', 'PegasusForCausalLM', 'PersimmonForCausalLM', 'PhiForCausalLM', 'PLBartForCausalLM', 'ProphetNetForCausalLM', 'QDQBertLMHeadModel', 'Qwen2ForCausalLM', 'ReformerModelWithLMHead', 'RemBertForCausalLM', 'RobertaForCausalLM', 'RobertaPreLayerNormForCausalLM', 'RoCBertForCausalLM', 'RoFormerForCausalLM', 'RwkvForCausalLM', 'Speech2Text2ForCausalLM', 'TransfoXLLMHeadModel', 'TrOCRForCausalLM', 'WhisperForCausalLM', 'XGLMForCausalLM', 'XLMWithLMHeadModel', 'XLMProphetNetForCausalLM', 'XLMRobertaForCausalLM', 'XLMRobertaXLForCausalLM', 'XLNetLMHeadModel', 'XmodForCausalLM'].\n"
     ]
    }
   ],
   "source": [
    "pipe= pipeline('text-generation', model=models, tokenizer=tokenizer)"
   ]
  },
  {
   "cell_type": "code",
   "execution_count": 35,
   "metadata": {},
   "outputs": [],
   "source": [
    "conver = Conversation()\n",
    "conver.add_user_input('Once upon a time')\n",
    "streamer = TextStreamer(tokenizer=tokenizer)"
   ]
  },
  {
   "cell_type": "code",
   "execution_count": 76,
   "metadata": {},
   "outputs": [],
   "source": [
    "good_shit = tokenizer.decode(tokenizer.apply_chat_template([{'role':'user', 'content':'generate the dbpedia sparql code that answer the following question: retrieve all the authors of the book harry potter'}]))"
   ]
  },
  {
   "cell_type": "code",
   "execution_count": null,
   "metadata": {},
   "outputs": [],
   "source": []
  },
  {
   "cell_type": "code",
   "execution_count": 96,
   "metadata": {},
   "outputs": [
    {
     "name": "stderr",
     "output_type": "stream",
     "text": [
      "Setting `pad_token_id` to `eos_token_id`:2 for open-end generation.\n",
      "Setting `pad_token_id` to `eos_token_id`:2 for open-end generation.\n",
      "Setting `pad_token_id` to `eos_token_id`:2 for open-end generation.\n",
      "Setting `pad_token_id` to `eos_token_id`:2 for open-end generation.\n"
     ]
    }
   ],
   "source": [
    "#pipe_output = pipe(good_shit, max_length=250, do_sample= True, num_beams=4, num_return_sequences=4, diversity_penalty=0.0)\n",
    "pipe_output = [pipe(good_shit, max_length=250, do_sample=True) for _ in range(4)]"
   ]
  },
  {
   "cell_type": "code",
   "execution_count": 97,
   "metadata": {},
   "outputs": [
    {
     "data": {
      "text/plain": [
       "[[{'generated_text': '<s> [INST] generate the dbpedia sparql code that answer the following question: retrieve all the authors of the book harry potter [/INST]  Here is an example of a DBpedia SPARQL query that retrieves the authors of the book \"Harry Potter\" using the prefixes and patterns found in the [DBpedia dataset](https://wiki.dbpedia.org/):\\n\\n```\\nPREFIX dbpedia: <http://dbpedia.org/resource/>                       \\nPREFIX dbpedia2: <http://dbpedia.org/data/>                          \\nPREFIX rdfs: <http://www.w3.org/2000/01/rdf-schema#>                  \\nPREFIX dcterms: <http://purl.org/dc/terms/>                          \\n\\nSELECT?author\\nWHERE\\n{  \\n ?book dbpedia:wikiPageRedirects?book_id.\\n ?book dbpedia:wikiPageDisambiguates?book_disamb.\\n ?book_disamb dcterms:subject \"Harry'}],\n",
       " [{'generated_text': '<s> [INST] generate the dbpedia sparql code that answer the following question: retrieve all the authors of the book harry potter [/INST]  Here is a DBpedia SPARQL query that retrieves all authors of the book \"Harry Potter\" from the DBpedia dataset:\\n```sparql\\nPREFIX dbpedia: <http://dbpedia.org/ontology/>\\n\\nSELECT DISTINCT?author\\nWHERE {\\n ?book dbpedia:abstract \"Harry Potter\"@en.\\n ?book dbpedia:author?author.\\n ?author a dbpedia:Person.\\n ?author rdfs:label?authorLabel.\\n}\\n```\\nThis query uses the `dbpedia:abstract` and `dbpedia:author` properties to find all books with the abstract \"Harry Potter\" and the `dbpedia:Person` and `rdfs:label` properties to find the authors of those books. The `?authorLabel` variable is used to select the authors\\' labels. The `DISTINCT` keyword is used to only retrieve unique authors.\\n'}],\n",
       " [{'generated_text': '<s> [INST] generate the dbpedia sparql code that answer the following question: retrieve all the authors of the book harry potter [/INST]  Here\\'s a DBpedia SPARQL query that should retrieve all the authors of the book \"Harry Potter\":\\n```sparql\\nPREFIX dbp-ont: <http://dbpedia.org/ontology/>\\nPREFIX dcterms: <http://purl.org/dc/terms/>\\n\\nSELECT?author?authorName\\nFROM <http://dbpedia.org/>\\nWHERE {\\n ?book dcterms:title \"Harry Potter\".\\n ?author dcterms:creator?book.\\n ?author foaf:name?authorName.\\n}\\n```\\nThis query retrieves information about the book \"Harry Potter\" using the `dcterms:title` property, and then retrieves all the authors who have created this book using the `dcterms:creator` property. The `foaf:name` property is used to retrieve the full name of the authors.\\n\\n'}],\n",
       " [{'generated_text': '<s> [INST] generate the dbpedia sparql code that answer the following question: retrieve all the authors of the book harry potter [/INST]  Here is an example of a SPARQL query that can be used to retrieve all the authors of the book Harry Potter:\\n```sparql\\nprefix dbpedia: <http://dbpedia.org/resource/>\\nprefix rdfs: <http://www.w3.org/2000/01/rdf-schema#>\\nprefix dbpprop: <http://dbpedia.org/property/>\\n\\nSELECT?author\\nWHERE {\\n ?book dbpedia:name \"Harry Potter\"@en.\\n ?book dbpprop:author?author.\\n}\\n```\\nThis query retrieves all the resources that have the property `dbpprop:author` and are related to the book \"Harry Potter\" (`?book`) using the `rdfs:label` property. The value of the `rdfs:label` property is \"Harry Potter\" with the language tag \"en\". The resulting binding of the query, for'}]]"
      ]
     },
     "execution_count": 97,
     "metadata": {},
     "output_type": "execute_result"
    }
   ],
   "source": [
    "pipe_output"
   ]
  },
  {
   "cell_type": "code",
   "execution_count": 133,
   "metadata": {},
   "outputs": [],
   "source": [
    "import re\n",
    "def capture_code(text): \n",
    "    code_pattern = r\"```(?:sparql)?(.*?)```\"\n",
    "    code = re.findall(code_pattern, text, re.DOTALL)\n",
    "    return code "
   ]
  },
  {
   "cell_type": "code",
   "execution_count": 135,
   "metadata": {},
   "outputs": [
    {
     "name": "stdout",
     "output_type": "stream",
     "text": [
      "<s> [INST] generate the dbpedia sparql code that answer the following question: retrieve all the authors of the book harry potter [/INST]  Here is an example of a DBpedia SPARQL query that retrieves the authors of the book \"Harry Potter\" using the prefixes and patterns found in the [DBpedia dataset](https://wiki.dbpedia.org/):\n",
      "\n",
      "```\n",
      "PREFIX dbpedia: <http://dbpedia.org/resource/>                       \n",
      "PREFIX dbpedia2: <http://dbpedia.org/data/>                          \n",
      "PREFIX rdfs: <http://www.w3.org/2000/01/rdf-schema#>                  \n",
      "PREFIX dcterms: <http://purl.org/dc/terms/>                          \n",
      "\n",
      "SELECT?author\n",
      "WHERE\n",
      "{  \n",
      " ?book dbpedia:wikiPageRedirects?book_id.\n",
      " ?book dbpedia:wikiPageDisambiguates?book_disamb.\n",
      " ?book_disamb dcterms:subject \"Harry\n"
     ]
    }
   ],
   "source": [
    "print(pipe_output[0][0]['generated_text'])"
   ]
  },
  {
   "cell_type": "code",
   "execution_count": 134,
   "metadata": {},
   "outputs": [
    {
     "name": "stdout",
     "output_type": "stream",
     "text": [
      "[]\n",
      "['\\nPREFIX dbpedia: <http://dbpedia.org/ontology/>\\n\\nSELECT DISTINCT?author\\nWHERE {\\n ?book dbpedia:abstract \"Harry Potter\"@en.\\n ?book dbpedia:author?author.\\n ?author a dbpedia:Person.\\n ?author rdfs:label?authorLabel.\\n}\\n']\n",
      "['\\nPREFIX dbp-ont: <http://dbpedia.org/ontology/>\\nPREFIX dcterms: <http://purl.org/dc/terms/>\\n\\nSELECT?author?authorName\\nFROM <http://dbpedia.org/>\\nWHERE {\\n ?book dcterms:title \"Harry Potter\".\\n ?author dcterms:creator?book.\\n ?author foaf:name?authorName.\\n}\\n']\n",
      "['\\nprefix dbpedia: <http://dbpedia.org/resource/>\\nprefix rdfs: <http://www.w3.org/2000/01/rdf-schema#>\\nprefix dbpprop: <http://dbpedia.org/property/>\\n\\nSELECT?author\\nWHERE {\\n ?book dbpedia:name \"Harry Potter\"@en.\\n ?book dbpprop:author?author.\\n}\\n']\n"
     ]
    },
    {
     "data": {
      "text/plain": [
       "[None, None, None, None]"
      ]
     },
     "execution_count": 134,
     "metadata": {},
     "output_type": "execute_result"
    }
   ],
   "source": [
    "[print(capture_code(x[0]['generated_text'])) for x in pipe_output]"
   ]
  },
  {
   "cell_type": "code",
   "execution_count": 30,
   "metadata": {},
   "outputs": [
    {
     "data": {
      "text/plain": [
       "tensor([[    1, 29871, 30143,  4746,  2184, 29936,    13,  4746,  2184, 29889,\n",
       "         19466, 29889, 15809, 29936,    13,  4746,  2184, 29889, 11667, 29939],\n",
       "        [    1, 29871, 30143,  4746,  2184, 29936,    13,  4746,  2184, 29889,\n",
       "         19466, 29889, 15809, 29936,    13,  4746,  2184, 29889,  1626, 29936],\n",
       "        [    1,    13,    13,    13,    13,    13,    13,    13,    13,    13,\n",
       "            13,    13,    13,    13,    13,    13,    13,    13,    13,    13]],\n",
       "       device='cuda:0')"
      ]
     },
     "execution_count": 30,
     "metadata": {},
     "output_type": "execute_result"
    }
   ],
   "source": [
    "output"
   ]
  },
  {
   "cell_type": "code",
   "execution_count": 22,
   "metadata": {},
   "outputs": [],
   "source": [
    "caca = [tokenizer.decode(x) for x in output]"
   ]
  },
  {
   "cell_type": "code",
   "execution_count": 23,
   "metadata": {},
   "outputs": [
    {
     "data": {
      "text/plain": [
       "['<s> \\ufeffusing System;\\nusing System.Collections.Generic;\\nusing System.Linq',\n",
       " '<s> \\ufeffusing System;\\nusing System.Collections.Generic;\\nusing System.Text;',\n",
       " '<s>\\n\\n\\n\\n\\n\\n\\n\\n\\n\\n\\n\\n\\n\\n\\n\\n\\n\\n\\n']"
      ]
     },
     "execution_count": 23,
     "metadata": {},
     "output_type": "execute_result"
    }
   ],
   "source": [
    "caca"
   ]
  }
 ],
 "metadata": {
  "kernelspec": {
   "display_name": "base",
   "language": "python",
   "name": "python3"
  },
  "language_info": {
   "codemirror_mode": {
    "name": "ipython",
    "version": 3
   },
   "file_extension": ".py",
   "mimetype": "text/x-python",
   "name": "python",
   "nbconvert_exporter": "python",
   "pygments_lexer": "ipython3",
   "version": "3.10.13"
  }
 },
 "nbformat": 4,
 "nbformat_minor": 2
}
