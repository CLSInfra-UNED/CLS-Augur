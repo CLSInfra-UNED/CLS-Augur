{
 "cells": [
  {
   "cell_type": "code",
   "execution_count": 28,
   "metadata": {},
   "outputs": [],
   "source": [
    "import sys\n",
    "sys.path.append('/workspaces/CLS-Augur')\n",
    "sys.path.append('../Augur')\n",
    "from Augur.rag import GraphRAG, SparQLRAG\n",
    "import pandas as pd\n",
    "\n",
    "ontology_files = [\n",
    "    '../datafiles/dbpedia_2016-10.owl'\n",
    "]\n",
    "\n",
    "model = \"sentence-transformers/all-mpnet-base-v2\"\n",
    "\n",
    "df_train = pd.read_json('../datafiles/train-data.json')\n",
    "\n",
    "ontology_db = GraphRAG(model, ontology_files)\n",
    "\n",
    "                       \n",
    "                        \n",
    "query = \"This property describes the relationship between a musical work and the populated place where it was recorded. It has domain 'MusicalWork' and range 'PopulatedPlace'. The property is labeled in multiple languages including English, Dutch, Greek, and French. It is a subproperty of 'coparticipatesWith' from the DUL ontology.\"\n",
    "output = ontology_db.process_query(query, 5)\n"
   ]
  },
  {
   "cell_type": "code",
   "execution_count": 29,
   "metadata": {},
   "outputs": [],
   "source": [
    "from rdflib import Graph\n",
    "\n",
    "dbpedia_graph = Graph().parse('../datafiles/dbpedia_2016-10.owl', format='xml')\n",
    "\n",
    "dbpedia_ids = {element for triple in dbpedia_graph for element in triple}"
   ]
  },
  {
   "cell_type": "code",
   "execution_count": 30,
   "metadata": {},
   "outputs": [],
   "source": [
    "graph  = Graph().parse(data=output, format='turtle')"
   ]
  },
  {
   "cell_type": "code",
   "execution_count": 31,
   "metadata": {},
   "outputs": [],
   "source": [
    "gold_standard = pd.read_csv('../datafiles/lcquad_test_gold.csv')"
   ]
  },
  {
   "cell_type": "code",
   "execution_count": 32,
   "metadata": {},
   "outputs": [
    {
     "data": {
      "text/plain": [
       "' SELECT DISTINCT ?uri WHERE { <http://dbpedia.org/resource/Marine_Corps_Air_Station_Kaneohe_Bay> <http://dbpedia.org/property/architect> ?uri. <http://dbpedia.org/resource/New_Sanno_Hotel> <http://dbpedia.org/ontology/tenant> ?uri} '"
      ]
     },
     "execution_count": 32,
     "metadata": {},
     "output_type": "execute_result"
    }
   ],
   "source": [
    "gold_standard.sparql_query[0]"
   ]
  },
  {
   "cell_type": "code",
   "execution_count": 33,
   "metadata": {},
   "outputs": [],
   "source": [
    "import re\n",
    "\n",
    "pattern = r'<(http[s]?://[^ >]*dbpedia\\.org[^ >]*)>'"
   ]
  },
  {
   "cell_type": "code",
   "execution_count": 34,
   "metadata": {},
   "outputs": [],
   "source": [
    "query = set(re.findall(pattern, gold_standard.sparql_query[0]))"
   ]
  },
  {
   "cell_type": "code",
   "execution_count": 35,
   "metadata": {},
   "outputs": [
    {
     "name": "stdout",
     "output_type": "stream",
     "text": [
      "{'http://dbpedia.org/resource/New_Sanno_Hotel', 'http://dbpedia.org/ontology/tenant', 'http://dbpedia.org/resource/Marine_Corps_Air_Station_Kaneohe_Bay', 'http://dbpedia.org/property/architect'}\n"
     ]
    }
   ],
   "source": [
    "print(query)"
   ]
  },
  {
   "cell_type": "code",
   "execution_count": 48,
   "metadata": {},
   "outputs": [],
   "source": [
    "for s,p,o in dbpedia_graph:\n",
    "    if 'resource' in p:\n",
    "        print(o)"
   ]
  },
  {
   "cell_type": "code",
   "execution_count": 26,
   "metadata": {},
   "outputs": [
    {
     "data": {
      "text/plain": [
       "\"{'head': {'link': [], 'vars': ['uri']}, 'results': {'distinct': False, 'ordered': True, 'bindings': [{'uri': {'type': 'uri', 'value': 'http://dbpedia.org/resource/United_States_Navy'}}]}}\""
      ]
     },
     "execution_count": 26,
     "metadata": {},
     "output_type": "execute_result"
    }
   ],
   "source": [
    "gold_standard.output[0]"
   ]
  },
  {
   "cell_type": "code",
   "execution_count": 51,
   "metadata": {},
   "outputs": [
    {
     "data": {
      "text/plain": [
       "'SELECT DISTINCT ?uri WHERE { ?x <http://dbpedia.org/property/international> <http://dbpedia.org/resource/Muslim_Brotherhood> . ?x <http://dbpedia.org/ontology/religion> ?uri  . ?x <http://www.w3.org/1999/02/22-rdf-syntax-ns#type> <http://dbpedia.org/ontology/PoliticalParty>}'"
      ]
     },
     "execution_count": 51,
     "metadata": {},
     "output_type": "execute_result"
    }
   ],
   "source": [
    "gold_standard.sparql_query[1]"
   ]
  }
 ],
 "metadata": {
  "kernelspec": {
   "display_name": "base",
   "language": "python",
   "name": "python3"
  },
  "language_info": {
   "codemirror_mode": {
    "name": "ipython",
    "version": 3
   },
   "file_extension": ".py",
   "mimetype": "text/x-python",
   "name": "python",
   "nbconvert_exporter": "python",
   "pygments_lexer": "ipython3",
   "version": "3.10.13"
  }
 },
 "nbformat": 4,
 "nbformat_minor": 2
}
