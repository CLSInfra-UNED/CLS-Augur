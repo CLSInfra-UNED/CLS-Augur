{
 "cells": [
  {
   "cell_type": "code",
   "execution_count": 1,
   "metadata": {},
   "outputs": [],
   "source": [
    "import sys\n",
    "import os \n",
    "\n",
    "sys.path.append(os.path.dirname(os.getcwd()))\n",
    "from Augur.rag import GraphRAG\n",
    "from Augur.agent_templates import StanzaTaggingAgent, GenerativeTaggingAgent\n",
    "import pandas as pd\n",
    "\n",
    "df_train = pd.read_json(\"../datafiles/train-data.json\")\n",
    "\n",
    "ontology_files = ['../datafiles/dbpedia_2016-10.owl']\n",
    "model = \"sentence-transformers/all-mpnet-base-v2\"\n",
    "ontology_db = GraphRAG(model, ontology_files)                 "
   ]
  },
  {
   "cell_type": "code",
   "execution_count": 2,
   "metadata": {},
   "outputs": [],
   "source": [
    "from rdflib import Graph\n",
    "\n",
    "dbpedia_graph = Graph().parse('../datafiles/dbpedia_2016-10.owl', format='xml')\n",
    "dbpedia_ids = {element for triple in dbpedia_graph for element in triple if 'http://dbpedia.org/' in element}"
   ]
  },
  {
   "cell_type": "code",
   "execution_count": 3,
   "metadata": {},
   "outputs": [
    {
     "data": {
      "application/vnd.jupyter.widget-view+json": {
       "model_id": "017bc91e4f8c47feb7290ef8330c5088",
       "version_major": 2,
       "version_minor": 0
      },
      "text/plain": [
       "Downloading https://raw.githubusercontent.com/stanfordnlp/stanza-resources/main/resources_1.6.0.json:   0%|   …"
      ]
     },
     "metadata": {},
     "output_type": "display_data"
    },
    {
     "name": "stderr",
     "output_type": "stream",
     "text": [
      "2024-03-13 10:59:12 INFO: Downloading default packages for language: en (English) ...\n",
      "2024-03-13 10:59:13 INFO: File exists: /root/stanza_resources/en/default.zip\n",
      "2024-03-13 10:59:17 INFO: Finished downloading models and saved to /root/stanza_resources.\n",
      "2024-03-13 10:59:17 INFO: Checking for updates to resources.json in case models have been updated.  Note: this behavior can be turned off with download_method=None or download_method=DownloadMethod.REUSE_RESOURCES\n"
     ]
    },
    {
     "data": {
      "application/vnd.jupyter.widget-view+json": {
       "model_id": "9db5e225759e413cbffad594944da8ce",
       "version_major": 2,
       "version_minor": 0
      },
      "text/plain": [
       "Downloading https://raw.githubusercontent.com/stanfordnlp/stanza-resources/main/resources_1.6.0.json:   0%|   …"
      ]
     },
     "metadata": {},
     "output_type": "display_data"
    },
    {
     "name": "stderr",
     "output_type": "stream",
     "text": [
      "2024-03-13 10:59:18 INFO: Loading these models for language: en (English):\n",
      "======================================\n",
      "| Processor    | Package             |\n",
      "--------------------------------------\n",
      "| tokenize     | combined            |\n",
      "| pos          | combined_charlm     |\n",
      "| lemma        | combined_nocharlm   |\n",
      "| constituency | ptb3-revised_charlm |\n",
      "| depparse     | combined_charlm     |\n",
      "| sentiment    | sstplus             |\n",
      "| ner          | ontonotes_charlm    |\n",
      "======================================\n",
      "\n",
      "2024-03-13 10:59:18 INFO: Using device: cuda\n",
      "2024-03-13 10:59:18 INFO: Loading: tokenize\n",
      "2024-03-13 10:59:18 INFO: Loading: pos\n",
      "2024-03-13 10:59:18 INFO: Loading: lemma\n",
      "2024-03-13 10:59:18 INFO: Loading: constituency\n",
      "2024-03-13 10:59:19 INFO: Loading: depparse\n",
      "2024-03-13 10:59:19 INFO: Loading: sentiment\n",
      "2024-03-13 10:59:19 INFO: Loading: ner\n",
      "2024-03-13 10:59:20 INFO: Done loading processors!\n"
     ]
    },
    {
     "data": {
      "application/vnd.jupyter.widget-view+json": {
       "model_id": "0446ca4bf0694af3b2237effd58f6ae8",
       "version_major": 2,
       "version_minor": 0
      },
      "text/plain": [
       "Loading checkpoint shards:   0%|          | 0/3 [00:00<?, ?it/s]"
      ]
     },
     "metadata": {},
     "output_type": "display_data"
    }
   ],
   "source": [
    "model_id = 'mistralai/Mistral-7B-Instruct-v0.2'\n",
    "agent = StanzaTaggingAgent(model_id)"
   ]
  },
  {
   "cell_type": "code",
   "execution_count": 4,
   "metadata": {},
   "outputs": [
    {
     "name": "stderr",
     "output_type": "stream",
     "text": [
      "The attention mask and the pad token id were not set. As a consequence, you may observe unexpected behavior. Please pass your input's `attention_mask` to obtain reliable results.\n",
      "Setting `pad_token_id` to `eos_token_id`:2 for open-end generation.\n"
     ]
    },
    {
     "name": "stdout",
     "output_type": "stream",
     "text": [
      "<s> [INST] Write a rdfs:comment suitable for the meaning of this dbpedia ontology identifier: built. Be succint. [/INST] \"Built: Identifier for structures or objects that have been created or produced by human activity.\"</s>\n"
     ]
    },
    {
     "name": "stderr",
     "output_type": "stream",
     "text": [
      "The attention mask and the pad token id were not set. As a consequence, you may observe unexpected behavior. Please pass your input's `attention_mask` to obtain reliable results.\n",
      "Setting `pad_token_id` to `eos_token_id`:2 for open-end generation.\n"
     ]
    },
    {
     "name": "stdout",
     "output_type": "stream",
     "text": [
      "<s> [INST] Write a rdfs:comment suitable for the meaning of this dbpedia ontology identifier: was rented. Be succint. [/INST] \"This identifier represents the property of an object being rented out or having been rented in the past.\"</s>\n"
     ]
    },
    {
     "name": "stderr",
     "output_type": "stream",
     "text": [
      "The attention mask and the pad token id were not set. As a consequence, you may observe unexpected behavior. Please pass your input's `attention_mask` to obtain reliable results.\n",
      "Setting `pad_token_id` to `eos_token_id`:2 for open-end generation.\n"
     ]
    },
    {
     "name": "stdout",
     "output_type": "stream",
     "text": [
      "<s> [INST] Write a rdfs:comment suitable for the meaning of this dbpedia ontology identifier: Copa Centroamericana. Be succint. [/INST] \"The Copa Centroamericana is a football tournament for national teams from the Central American region, organized by the Confederation of Central American Football (UNCAF). It is held every even year and serves as the qualification event for the CONCACAF Gold Cup.\"</s>\n"
     ]
    },
    {
     "name": "stderr",
     "output_type": "stream",
     "text": [
      "The attention mask and the pad token id were not set. As a consequence, you may observe unexpected behavior. Please pass your input's `attention_mask` to obtain reliable results.\n",
      "Setting `pad_token_id` to `eos_token_id`:2 for open-end generation.\n"
     ]
    },
    {
     "name": "stdout",
     "output_type": "stream",
     "text": [
      "<s> [INST] Write a rdfs:comment suitable for the meaning of this dbpedia ontology identifier: stadium. Be succint. [/INST] A stadium is a large venue for outdoor sports and other events, with a fixed seating capacity for spectators. (rdfs:comment type=\"Stadium\";)</s>\n"
     ]
    }
   ],
   "source": [
    "input_text = agent(df_train.corrected_question[20])"
   ]
  },
  {
   "cell_type": "code",
   "execution_count": 8,
   "metadata": {},
   "outputs": [
    {
     "data": {
      "text/plain": [
       "'Who built the stadium which was rented for the 2013 Copa Centroamericana ?'"
      ]
     },
     "execution_count": 8,
     "metadata": {},
     "output_type": "execute_result"
    }
   ],
   "source": [
    "df_train.corrected_question[20]"
   ]
  },
  {
   "cell_type": "code",
   "execution_count": 5,
   "metadata": {},
   "outputs": [],
   "source": [
    "query = list(input_text.values())\n",
    "output = ontology_db.process_query(query, 5)\n",
    "graph  = Graph().parse(data=output, format='turtle')"
   ]
  },
  {
   "cell_type": "code",
   "execution_count": 9,
   "metadata": {},
   "outputs": [
    {
     "name": "stdout",
     "output_type": "stream",
     "text": [
      "@prefix : <http://dbpedia.org/ontology/> .\n",
      "@prefix d0: <http://www.ontologydesignpatterns.org/ont/d0.owl#> .\n",
      "@prefix dul: <http://www.ontologydesignpatterns.org/ont/dul/DUL.owl#> .\n",
      "@prefix foaf: <http://xmlns.com/foaf/0.1/> .\n",
      "@prefix owl: <http://www.w3.org/2002/07/owl#> .\n",
      "@prefix prov: <http://www.w3.org/ns/prov#> .\n",
      "@prefix rdf: <http://www.w3.org/1999/02/22-rdf-syntax-ns#> .\n",
      "@prefix rdfs: <http://www.w3.org/2000/01/rdf-schema#> .\n",
      "@prefix skos: <http://www.w3.org/2004/02/skos/core#> .\n",
      "@prefix wikidata: <http://www.wikidata.org/entity/> .\n",
      "@prefix xsd: <http://www.w3.org/2001/XMLSchema#> .\n",
      "\n",
      ":AmericanFootballLeague a owl:Class ;\n",
      "    rdfs:label \"american football league\"@en ;\n",
      "    rdfs:comment \"A group of sports teams that compete against each other in american football.\"@en ;\n",
      "    rdfs:subClassOf :SportsLeague ;\n",
      "    prov:wasDerivedFrom <http://mappings.dbpedia.org/index.php/OntologyClass:AmericanFootballLeague> .\n",
      "\n",
      ":Arena a owl:Class ;\n",
      "    rdfs:label \"arena\"@en ;\n",
      "    rdfs:comment \"An arena is an enclosed area, often circular or oval-shaped, designed to showcase theater, musical performances, or sporting events. (http://en.wikipedia.org/wiki/Arena)\"@en ;\n",
      "    rdfs:subClassOf :ArchitecturalStructure ;\n",
      "    owl:equivalentClass <http://schema.org/StadiumOrArena> ;\n",
      "    prov:wasDerivedFrom <http://mappings.dbpedia.org/index.php/OntologyClass:Arena> .\n",
      "\n",
      ":BaseballLeague a owl:Class ;\n",
      "    rdfs:label \"baseball league\"@en ;\n",
      "    rdfs:comment \"a group of sports teams that compete against each other in Baseball.\"@en ;\n",
      "    rdfs:subClassOf :SportsLeague ;\n",
      "    owl:equivalentClass wikidata:Q6631808 ;\n",
      "    prov:wasDerivedFrom <http://mappings.dbpedia.org/index.php/OntologyClass:BaseballLeague> .\n",
      "\n",
      ":Bridge a owl:Class ;\n",
      "    rdfs:label \"bridge\"@en ;\n",
      "    rdfs:comment \"A bridge is a structure built to span physical obstacles such as a body of water, valley, or road, for the purpose of providing passage over the obstacle (http://en.wikipedia.org/wiki/Bridge).\"@en ;\n",
      "    rdfs:subClassOf :RouteOfTransportation ;\n",
      "    owl:equivalentClass wikidata:Q12280 ;\n",
      "    prov:wasDerivedFrom <http://mappings.dbpedia.org/index.php/OntologyClass:Bridge> .\n",
      "\n",
      ":CanadianFootballLeague a owl:Class ;\n",
      "    rdfs:label \"liga de fútbol canadiense\"@en ;\n",
      "    rdfs:comment \"A group of sports teams that compete against each other in canadian football league.\"@en ;\n",
      "    rdfs:subClassOf :SportsLeague ;\n",
      "    prov:wasDerivedFrom <http://mappings.dbpedia.org/index.php/OntologyClass:CanadianFootballLeague> .\n",
      "\n",
      ":FieldHockeyLeague a owl:Class ;\n",
      "    rdfs:label \"field hockey league\"@en ;\n",
      "    rdfs:comment \"a group of sports teams that compete against each other in Field Hockey\"@en ;\n",
      "    rdfs:subClassOf :SportsLeague ;\n",
      "    prov:wasDerivedFrom <http://mappings.dbpedia.org/index.php/OntologyClass:FieldHockeyLeague> .\n",
      "\n",
      ":FootballMatch a owl:Class ;\n",
      "    rdfs:label \"football match\"@en ;\n",
      "    rdfs:comment \"a competition between two football teams\"@en ;\n",
      "    rdfs:subClassOf :SportsEvent ;\n",
      "    prov:wasDerivedFrom <http://mappings.dbpedia.org/index.php/OntologyClass:FootballMatch> .\n",
      "\n",
      ":HandballLeague a owl:Class ;\n",
      "    rdfs:label \"handball league\"@en ;\n",
      "    rdfs:comment \"a group of sports teams that compete against each other in Handball\"@en ;\n",
      "    rdfs:subClassOf :SportsLeague ;\n",
      "    prov:wasDerivedFrom <http://mappings.dbpedia.org/index.php/OntologyClass:HandballLeague> .\n",
      "\n",
      ":Memorial a owl:Class ;\n",
      "    rdfs:label \"memorial\"@en ;\n",
      "    rdfs:comment \"A monument erected to commemorate a person, an event and/or group. In the case of a person, this might be a grave or tomb.\"@en ;\n",
      "    rdfs:subClassOf :Monument ;\n",
      "    prov:wasDerivedFrom <http://mappings.dbpedia.org/index.php/OntologyClass:Memorial> .\n",
      "\n",
      ":Park a owl:Class ;\n",
      "    rdfs:label \"park\"@en ;\n",
      "    rdfs:comment \"A park is an area of open space provided for recreational use. http://en.wikipedia.org/wiki/Park\"@en ;\n",
      "    rdfs:subClassOf :Place ;\n",
      "    owl:equivalentClass <http://schema.org/Park> ;\n",
      "    prov:wasDerivedFrom <http://mappings.dbpedia.org/index.php/OntologyClass:Park> .\n",
      "\n",
      ":RadioControlledRacingLeague a owl:Class ;\n",
      "    rdfs:label \"radio-controlled racing league\"@en ;\n",
      "    rdfs:comment \"A group of sports teams or person that compete against each other in radio-controlled racing.\"@en ;\n",
      "    rdfs:subClassOf :SportsLeague ;\n",
      "    prov:wasDerivedFrom <http://mappings.dbpedia.org/index.php/OntologyClass:RadioControlledRacingLeague> .\n",
      "\n",
      ":SoccerLeague a owl:Class ;\n",
      "    rdfs:label \"soccer league\"@en ;\n",
      "    rdfs:comment \"A group of sports teams that compete against each other in soccer.\"@en ;\n",
      "    rdfs:subClassOf :SportsLeague ;\n",
      "    prov:wasDerivedFrom <http://mappings.dbpedia.org/index.php/OntologyClass:SoccerLeague> .\n",
      "\n",
      ":SoftballLeague a owl:Class ;\n",
      "    rdfs:label \"softball league\"@en ;\n",
      "    rdfs:comment \"A group of sports teams that compete against each other in softball.\"@en ;\n",
      "    rdfs:subClassOf :SportsLeague ;\n",
      "    prov:wasDerivedFrom <http://mappings.dbpedia.org/index.php/OntologyClass:SoftballLeague> .\n",
      "\n",
      ":Sport a owl:Class ;\n",
      "    rdfs:label \"sport\"@en ;\n",
      "    rdfs:comment \"A sport is commonly defined as an organized, competitive, and skillful physical activity.\"@en ;\n",
      "    rdfs:subClassOf :Activity ;\n",
      "    owl:equivalentClass wikidata:Q349 ;\n",
      "    prov:wasDerivedFrom <http://mappings.dbpedia.org/index.php/OntologyClass:Sport> .\n",
      "\n",
      ":SportsTeamSeason a owl:Class ;\n",
      "    rdfs:label \"sports team season\"@en ;\n",
      "    rdfs:comment \"A season for a particular sports team (as opposed to the season for the entire league that the team is in)\"@en ;\n",
      "    rdfs:subClassOf :SportsSeason ;\n",
      "    prov:wasDerivedFrom <http://mappings.dbpedia.org/index.php/OntologyClass:SportsTeamSeason> .\n",
      "\n",
      ":Theatre a owl:Class ;\n",
      "    rdfs:label \"theatre\"@en ;\n",
      "    rdfs:comment \"A theater or theatre (also a playhouse) is a structure where theatrical works or plays are performed or other performances such as musical concerts may be produced.\"@en ;\n",
      "    rdfs:subClassOf :Venue ;\n",
      "    owl:equivalentClass wikidata:Q24354 ;\n",
      "    prov:wasDerivedFrom <http://mappings.dbpedia.org/index.php/OntologyClass:Theatre> .\n",
      "\n",
      ":Tower a owl:Class ;\n",
      "    rdfs:label \"tower\"@en ;\n",
      "    rdfs:comment \"A Tower is a kind of structure (not necessarily a building) that is higher than the rest\"@en ;\n",
      "    rdfs:subClassOf :ArchitecturalStructure ;\n",
      "    owl:disjointWith :Person ;\n",
      "    owl:equivalentClass wikidata:Q12518 ;\n",
      "    prov:wasDerivedFrom <http://mappings.dbpedia.org/index.php/OntologyClass:Tower> .\n",
      "\n",
      ":address a rdf:Property,\n",
      "        owl:DatatypeProperty ;\n",
      "    rdfs:label \"address\"@en ;\n",
      "    rdfs:comment \"Address of something as literal. Usually Building, but we also use it for the address of a Region's or Settlement's government\"@en ;\n",
      "    rdfs:domain :Place ;\n",
      "    rdfs:range rdf:langString ;\n",
      "    owl:equivalentProperty wikidata:P969 ;\n",
      "    prov:wasDerivedFrom <http://mappings.dbpedia.org/index.php/OntologyProperty:address> .\n",
      "\n",
      ":careerStation a rdf:Property,\n",
      "        owl:ObjectProperty ;\n",
      "    rdfs:label \"career station\"@en ;\n",
      "    rdfs:comment \"this property links to a step in the career of a person, e.g. a soccer player, holding information on the time span, matches and goals he or she achieved at a club.\"@en ;\n",
      "    rdfs:domain :Person ;\n",
      "    rdfs:range :CareerStation ;\n",
      "    rdfs:subPropertyOf dul:hasSetting ;\n",
      "    prov:wasDerivedFrom <http://mappings.dbpedia.org/index.php/OntologyProperty:careerStation> .\n",
      "\n",
      ":chain a rdf:Property,\n",
      "        owl:ObjectProperty ;\n",
      "    rdfs:label \"chain\"@en ;\n",
      "    rdfs:comment \"The chain of Hotels this instance is associated with.\"@en ;\n",
      "    rdfs:domain :Hotel ;\n",
      "    rdfs:range :Company ;\n",
      "    rdfs:subPropertyOf dul:isMemberOf ;\n",
      "    prov:wasDerivedFrom <http://mappings.dbpedia.org/index.php/OntologyProperty:chain> .\n",
      "\n",
      ":constructionMaterial a rdf:Property,\n",
      "        owl:ObjectProperty ;\n",
      "    rdfs:label \"construction material\"@en ;\n",
      "    rdfs:comment \"Construction material (eg. concrete, steel, iron, stone, brick, wood).\"@en ;\n",
      "    rdfs:domain :ArchitecturalStructure ;\n",
      "    rdfs:subPropertyOf dul:hasConstituent ;\n",
      "    owl:equivalentProperty wikidata:P186 ;\n",
      "    prov:wasDerivedFrom <http://mappings.dbpedia.org/index.php/OntologyProperty:constructionMaterial> .\n",
      "\n",
      ":currentlyUsedFor a rdf:Property,\n",
      "        owl:DatatypeProperty ;\n",
      "    rdfs:label \"currently used for\"@en ;\n",
      "    rdfs:comment \"Current use of the architectural structure, if it is currently being used as anything other than its original purpose.\"@en ;\n",
      "    rdfs:domain :ArchitecturalStructure ;\n",
      "    rdfs:range xsd:string ;\n",
      "    prov:wasDerivedFrom <http://mappings.dbpedia.org/index.php/OntologyProperty:currentlyUsedFor> .\n",
      "\n",
      ":foundedBy a rdf:Property,\n",
      "        owl:ObjectProperty ;\n",
      "    rdfs:label \"founded by\"@en ;\n",
      "    rdfs:comment \"Identifies the founder of the described entity. This can be a person or a organisation for instance.\"@en ;\n",
      "    rdfs:range :Agent ;\n",
      "    rdfs:subPropertyOf dul:coparticipatesWith ;\n",
      "    owl:equivalentProperty wikidata:P112 ;\n",
      "    prov:wasDerivedFrom <http://mappings.dbpedia.org/index.php/OntologyProperty:foundedBy> .\n",
      "\n",
      ":governingBody a rdf:Property,\n",
      "        owl:ObjectProperty ;\n",
      "    rdfs:label \"governing body\"@en ;\n",
      "    rdfs:comment \"Body that owns/operates the Place.\"@en ;\n",
      "    rdfs:domain :Place ;\n",
      "    rdfs:range :Organisation ;\n",
      "    rdfs:subPropertyOf dul:coparticipatesWith ;\n",
      "    prov:wasDerivedFrom <http://mappings.dbpedia.org/index.php/OntologyProperty:governingBody> .\n",
      "\n",
      ":hasInsidePlace a rdf:Property,\n",
      "        owl:ObjectProperty ;\n",
      "    rdfs:label \"has inside place\"@en ;\n",
      "    rdfs:comment \"indicates another place situated inside.\"@en ;\n",
      "    rdfs:domain :Place ;\n",
      "    rdfs:range :Place ;\n",
      "    prov:wasDerivedFrom <http://mappings.dbpedia.org/index.php/OntologyProperty:hasInsidePlace> .\n",
      "\n",
      ":hasOutsidePlace a rdf:Property,\n",
      "        owl:ObjectProperty ;\n",
      "    rdfs:label \"has outside place\"@en ;\n",
      "    rdfs:comment \"indicates another place situated around outside.\"@en ;\n",
      "    rdfs:domain :Place ;\n",
      "    rdfs:range :Place ;\n",
      "    prov:wasDerivedFrom <http://mappings.dbpedia.org/index.php/OntologyProperty:hasOutsidePlace> .\n",
      "\n",
      ":initiallyUsedFor a rdf:Property,\n",
      "        owl:DatatypeProperty ;\n",
      "    rdfs:label \"initally used for\"@en ;\n",
      "    rdfs:comment \"Initial use of the architectural structure.\"@en ;\n",
      "    rdfs:domain :ArchitecturalStructure ;\n",
      "    rdfs:range xsd:string ;\n",
      "    prov:wasDerivedFrom <http://mappings.dbpedia.org/index.php/OntologyProperty:initiallyUsedFor> .\n",
      "\n",
      ":museumType a rdf:Property,\n",
      "        owl:ObjectProperty ;\n",
      "    rdfs:label \"museumType\"@en ;\n",
      "    rdfs:comment \"This property has been added  because 'buildingType' is much more about the place, whereas 'museumType' is about the way the place is being (or:was) used\"@en ;\n",
      "    rdfs:domain :Museum ;\n",
      "    rdfs:subPropertyOf dul:isClassifiedBy ;\n",
      "    prov:wasDerivedFrom <http://mappings.dbpedia.org/index.php/OntologyProperty:museumType> .\n",
      "\n",
      ":originalName a rdf:Property,\n",
      "        owl:DatatypeProperty ;\n",
      "    rdfs:label \"original name\"@en ;\n",
      "    rdfs:comment \"The original name of the entity, e.g. film, settlement, etc.\"@en ;\n",
      "    rdfs:range rdf:langString ;\n",
      "    prov:wasDerivedFrom <http://mappings.dbpedia.org/index.php/OntologyProperty:originalName> .\n",
      "\n",
      ":originallyUsedFor a rdf:Property,\n",
      "        owl:DatatypeProperty ;\n",
      "    rdfs:label \"originally used for\"@en ;\n",
      "    rdfs:comment \"Original use of ArchitecturalStructure or ConcentrationCamp, if it is currently being used as anything other than its original purpose.\"@en ;\n",
      "    rdfs:range xsd:string ;\n",
      "    prov:wasDerivedFrom <http://mappings.dbpedia.org/index.php/OntologyProperty:originallyUsedFor> .\n",
      "\n",
      ":relatedFunctions a rdf:Property,\n",
      "        owl:ObjectProperty ;\n",
      "    rdfs:label \"related functions\"@en ;\n",
      "    rdfs:comment \"This property is to accommodate the list field that contains a list of related personFunctions a person holds or has held\"@en ;\n",
      "    rdfs:domain :Person ;\n",
      "    rdfs:range :List ;\n",
      "    rdfs:subPropertyOf dul:unifies ;\n",
      "    prov:wasDerivedFrom <http://mappings.dbpedia.org/index.php/OntologyProperty:relatedFunctions> .\n",
      "\n",
      ":significantProject a rdf:Property,\n",
      "        owl:ObjectProperty ;\n",
      "    rdfs:label \"significant project\"@en ;\n",
      "    rdfs:comment \"A siginificant artifact constructed by the person.\"@en ;\n",
      "    rdfs:domain :Person ;\n",
      "    rdfs:subPropertyOf dul:coparticipatesWith ;\n",
      "    prov:wasDerivedFrom <http://mappings.dbpedia.org/index.php/OntologyProperty:significantProject> .\n",
      "\n",
      ":sportCountry a rdf:Property,\n",
      "        owl:ObjectProperty ;\n",
      "    rdfs:label \"sport country\"@en ;\n",
      "    rdfs:comment \"The country, for which the athlete is participating in championships\"@en ;\n",
      "    rdfs:domain :Athlete ;\n",
      "    rdfs:range :Country ;\n",
      "    rdfs:subPropertyOf dul:coparticipatesWith ;\n",
      "    prov:wasDerivedFrom <http://mappings.dbpedia.org/index.php/OntologyProperty:sportCountry> .\n",
      "\n",
      ":Activity a owl:Class ;\n",
      "    rdfs:label \"activity\"@en ;\n",
      "    rdfs:subClassOf owl:Thing ;\n",
      "    owl:disjointWith :Person ;\n",
      "    owl:equivalentClass d0:Activity,\n",
      "        wikidata:Q1914636 ;\n",
      "    prov:wasDerivedFrom <http://mappings.dbpedia.org/index.php/OntologyClass:Activity> .\n",
      "\n",
      ":Athlete a owl:Class ;\n",
      "    rdfs:label \"athlete\"@en ;\n",
      "    rdfs:subClassOf :Person ;\n",
      "    prov:wasDerivedFrom <http://mappings.dbpedia.org/index.php/OntologyClass:Athlete> .\n",
      "\n",
      ":CareerStation a owl:Class ;\n",
      "    rdfs:label \"career station\"@en ;\n",
      "    rdfs:comment \"this class marks a career step in the life of a person, e.g. a soccer player, holding information on the time span, matches and goals he or she achieved at a certain club\"@en ;\n",
      "    rdfs:subClassOf :TimePeriod ;\n",
      "    prov:wasDerivedFrom <http://mappings.dbpedia.org/index.php/OntologyClass:CareerStation> .\n",
      "\n",
      ":Company a owl:Class ;\n",
      "    rdfs:label \"company\"@en ;\n",
      "    rdfs:subClassOf :Organisation ;\n",
      "    prov:wasDerivedFrom <http://mappings.dbpedia.org/index.php/OntologyClass:Company> .\n",
      "\n",
      ":Country a owl:Class ;\n",
      "    rdfs:label \"country\"@en ;\n",
      "    rdfs:subClassOf :PopulatedPlace ;\n",
      "    owl:equivalentClass <http://schema.org/Country>,\n",
      "        wikidata:Q6256 ;\n",
      "    prov:wasDerivedFrom <http://mappings.dbpedia.org/index.php/OntologyClass:Country> .\n",
      "\n",
      ":Hotel a owl:Class ;\n",
      "    rdfs:label \"hotel\"@en ;\n",
      "    rdfs:subClassOf :Building ;\n",
      "    owl:equivalentClass <http://schema.org/Hotel>,\n",
      "        wikidata:Q27686 ;\n",
      "    prov:wasDerivedFrom <http://mappings.dbpedia.org/index.php/OntologyClass:Hotel> .\n",
      "\n",
      ":List a owl:Class ;\n",
      "    rdfs:label \"list\"@en ;\n",
      "    rdfs:comment \"A general list of items.\"@en ;\n",
      "    rdfs:subClassOf owl:Thing ;\n",
      "    owl:equivalentClass dul:Collection,\n",
      "        skos:OrderedCollection ;\n",
      "    prov:wasDerivedFrom <http://mappings.dbpedia.org/index.php/OntologyClass:List> .\n",
      "\n",
      ":Monument a owl:Class ;\n",
      "    rdfs:label \"monument\"@en ;\n",
      "    rdfs:comment \"A type of structure (a statue or an art object) created to commemorate a person or important event, not necessarily of a catastrophic nature.\"@en ;\n",
      "    rdfs:subClassOf :Place ;\n",
      "    owl:equivalentClass wikidata:Q4989906 ;\n",
      "    prov:wasDerivedFrom <http://mappings.dbpedia.org/index.php/OntologyClass:Monument> .\n",
      "\n",
      ":Museum a owl:Class ;\n",
      "    rdfs:label \"museum\"@en ;\n",
      "    rdfs:subClassOf :Building ;\n",
      "    owl:equivalentClass wikidata:Q33506 ;\n",
      "    prov:wasDerivedFrom <http://mappings.dbpedia.org/index.php/OntologyClass:Museum> .\n",
      "\n",
      ":PopulatedPlace a owl:Class ;\n",
      "    rdfs:label \"populated place\"@en ;\n",
      "    rdfs:comment \"As defined by the United States Geological Survey, a populated place is a place or area with clustered or scattered buildings and a permanent human population (city, settlement, town, or village) referenced with geographic coordinates (http://en.wikipedia.org/wiki/Populated_place).\"@en ;\n",
      "    rdfs:subClassOf :Place ;\n",
      "    prov:wasDerivedFrom <http://mappings.dbpedia.org/index.php/OntologyClass:PopulatedPlace> .\n",
      "\n",
      ":RouteOfTransportation a owl:Class ;\n",
      "    rdfs:label \"route of transportation\"@en ;\n",
      "    rdfs:comment \"A route of transportation (thoroughfare) may refer to a public road, highway, path or trail or a route on water from one place to another for use by a variety of general traffic (http://en.wikipedia.org/wiki/Thoroughfare).\"@en ;\n",
      "    rdfs:subClassOf :Infrastructure ;\n",
      "    prov:wasDerivedFrom <http://mappings.dbpedia.org/index.php/OntologyClass:RouteOfTransportation> .\n",
      "\n",
      ":SportsEvent a owl:Class ;\n",
      "    rdfs:label \"sports event\"@en ;\n",
      "    rdfs:comment \"a event of competitive physical activity\"@en ;\n",
      "    rdfs:subClassOf :SocietalEvent ;\n",
      "    owl:equivalentClass <http://schema.org/SportsEvent> ;\n",
      "    prov:wasDerivedFrom <http://mappings.dbpedia.org/index.php/OntologyClass:SportsEvent> .\n",
      "\n",
      ":SportsSeason a owl:Class ;\n",
      "    rdfs:label \"sports season\"@en ;\n",
      "    rdfs:subClassOf owl:Thing ;\n",
      "    prov:wasDerivedFrom <http://mappings.dbpedia.org/index.php/OntologyClass:SportsSeason> .\n",
      "\n",
      ":Venue a owl:Class ;\n",
      "    rdfs:label \"venue\"@en ;\n",
      "    rdfs:subClassOf :ArchitecturalStructure ;\n",
      "    prov:wasDerivedFrom <http://mappings.dbpedia.org/index.php/OntologyClass:Venue> .\n",
      "\n",
      ":Building a owl:Class ;\n",
      "    rdfs:label \"building\"@en ;\n",
      "    rdfs:comment \"Building is defined as a Civil Engineering structure such as a house, worship center, factory etc. that has a foundation, wall, roof etc. that protect human being and their properties from direct harsh effect of weather like rain, wind, sun etc. (http://en.wikipedia.org/wiki/Building).\"@en ;\n",
      "    rdfs:subClassOf :ArchitecturalStructure ;\n",
      "    owl:disjointWith :Person ;\n",
      "    owl:equivalentClass wikidata:Q41176 ;\n",
      "    prov:wasDerivedFrom <http://mappings.dbpedia.org/index.php/OntologyClass:Building> .\n",
      "\n",
      "rdf:langString a rdfs:Datatype ;\n",
      "    rdfs:label \"rdf:langString\"@en .\n",
      "\n",
      ":Agent a owl:Class ;\n",
      "    rdfs:label \"agent\"@en ;\n",
      "    rdfs:comment \"Analogous to a foaf:Agent, an agent is an entity that acts. This is intended to be the super class of Person and Organisation.\"@en ;\n",
      "    rdfs:subClassOf owl:Thing ;\n",
      "    owl:disjointWith :Place ;\n",
      "    owl:equivalentClass dul:Agent,\n",
      "        wikidata:Q24229398 ;\n",
      "    prov:wasDerivedFrom <http://mappings.dbpedia.org/index.php/OntologyClass:Agent> .\n",
      "\n",
      ":Organisation a owl:Class ;\n",
      "    rdfs:label \"organisation\"@en ;\n",
      "    rdfs:subClassOf :Agent ;\n",
      "    owl:disjointWith <http://dbpedia.org/ontology/wgs84_pos:SpatialThing> ;\n",
      "    owl:equivalentClass <http://schema.org/Organization>,\n",
      "        dul:SocialPerson,\n",
      "        wikidata:Q43229 ;\n",
      "    prov:wasDerivedFrom <http://mappings.dbpedia.org/index.php/OntologyClass:Organisation> .\n",
      "\n",
      "xsd:string a rdfs:Datatype ;\n",
      "    rdfs:label \"xsd:string\"@en .\n",
      "\n",
      ":ArchitecturalStructure a owl:Class ;\n",
      "    rdfs:label \"architectural structure\"@en ;\n",
      "    rdfs:comment \"An architectural structure is a human-made, free-standing, immobile outdoor construction (http://en.wikipedia.org/wiki/Architectural_structure).\"@en ;\n",
      "    rdfs:subClassOf :Place ;\n",
      "    prov:wasDerivedFrom <http://mappings.dbpedia.org/index.php/OntologyClass:ArchitecturalStructure> .\n",
      "\n",
      ":Person a owl:Class ;\n",
      "    rdfs:label \"person\"@en ;\n",
      "    rdfs:subClassOf :Agent ;\n",
      "    owl:equivalentClass <http://schema.org/Person>,\n",
      "        dul:NaturalPerson,\n",
      "        wikidata:Q215627,\n",
      "        wikidata:Q5,\n",
      "        foaf:Person ;\n",
      "    prov:wasDerivedFrom <http://mappings.dbpedia.org/index.php/OntologyClass:Person> .\n",
      "\n",
      ":SportsLeague a owl:Class ;\n",
      "    rdfs:label \"sports league\"@en ;\n",
      "    rdfs:comment \"A group of sports teams or individual athletes that compete against each other in a specific sport.\"@en ;\n",
      "    rdfs:subClassOf :Organisation ;\n",
      "    owl:equivalentClass wikidata:Q623109 ;\n",
      "    prov:wasDerivedFrom <http://mappings.dbpedia.org/index.php/OntologyClass:SportsLeague> .\n",
      "\n",
      ":Place a owl:Class ;\n",
      "    rdfs:label \"place\"@en ;\n",
      "    rdfs:comment \"Immobile things or locations.\"@en ;\n",
      "    rdfs:subClassOf owl:Thing ;\n",
      "    owl:equivalentClass :Location,\n",
      "        <http://schema.org/Place> ;\n",
      "    prov:wasDerivedFrom <http://mappings.dbpedia.org/index.php/OntologyClass:Place> .\n",
      "\n",
      "\n"
     ]
    }
   ],
   "source": [
    "print(graph.serialize(format='turtle'))"
   ]
  },
  {
   "cell_type": "code",
   "execution_count": 7,
   "metadata": {},
   "outputs": [
    {
     "data": {
      "text/plain": [
       "{'http://dbpedia.org/ontology/Activity',\n",
       " 'http://dbpedia.org/ontology/Agent',\n",
       " 'http://dbpedia.org/ontology/AmericanFootballLeague',\n",
       " 'http://dbpedia.org/ontology/ArchitecturalStructure',\n",
       " 'http://dbpedia.org/ontology/Arena',\n",
       " 'http://dbpedia.org/ontology/Athlete',\n",
       " 'http://dbpedia.org/ontology/BaseballLeague',\n",
       " 'http://dbpedia.org/ontology/Bridge',\n",
       " 'http://dbpedia.org/ontology/Building',\n",
       " 'http://dbpedia.org/ontology/CanadianFootballLeague',\n",
       " 'http://dbpedia.org/ontology/CareerStation',\n",
       " 'http://dbpedia.org/ontology/Company',\n",
       " 'http://dbpedia.org/ontology/Country',\n",
       " 'http://dbpedia.org/ontology/FieldHockeyLeague',\n",
       " 'http://dbpedia.org/ontology/FootballMatch',\n",
       " 'http://dbpedia.org/ontology/HandballLeague',\n",
       " 'http://dbpedia.org/ontology/Hotel',\n",
       " 'http://dbpedia.org/ontology/List',\n",
       " 'http://dbpedia.org/ontology/Memorial',\n",
       " 'http://dbpedia.org/ontology/Monument',\n",
       " 'http://dbpedia.org/ontology/Museum',\n",
       " 'http://dbpedia.org/ontology/Organisation',\n",
       " 'http://dbpedia.org/ontology/Park',\n",
       " 'http://dbpedia.org/ontology/Person',\n",
       " 'http://dbpedia.org/ontology/Place',\n",
       " 'http://dbpedia.org/ontology/PopulatedPlace',\n",
       " 'http://dbpedia.org/ontology/RadioControlledRacingLeague',\n",
       " 'http://dbpedia.org/ontology/RouteOfTransportation',\n",
       " 'http://dbpedia.org/ontology/SoccerLeague',\n",
       " 'http://dbpedia.org/ontology/SoftballLeague',\n",
       " 'http://dbpedia.org/ontology/Sport',\n",
       " 'http://dbpedia.org/ontology/SportsEvent',\n",
       " 'http://dbpedia.org/ontology/SportsLeague',\n",
       " 'http://dbpedia.org/ontology/SportsSeason',\n",
       " 'http://dbpedia.org/ontology/SportsTeamSeason',\n",
       " 'http://dbpedia.org/ontology/Theatre',\n",
       " 'http://dbpedia.org/ontology/Tower',\n",
       " 'http://dbpedia.org/ontology/Venue',\n",
       " 'http://dbpedia.org/ontology/address',\n",
       " 'http://dbpedia.org/ontology/careerStation',\n",
       " 'http://dbpedia.org/ontology/chain',\n",
       " 'http://dbpedia.org/ontology/constructionMaterial',\n",
       " 'http://dbpedia.org/ontology/currentlyUsedFor',\n",
       " 'http://dbpedia.org/ontology/foundedBy',\n",
       " 'http://dbpedia.org/ontology/governingBody',\n",
       " 'http://dbpedia.org/ontology/hasInsidePlace',\n",
       " 'http://dbpedia.org/ontology/hasOutsidePlace',\n",
       " 'http://dbpedia.org/ontology/initiallyUsedFor',\n",
       " 'http://dbpedia.org/ontology/museumType',\n",
       " 'http://dbpedia.org/ontology/originalName',\n",
       " 'http://dbpedia.org/ontology/originallyUsedFor',\n",
       " 'http://dbpedia.org/ontology/relatedFunctions',\n",
       " 'http://dbpedia.org/ontology/significantProject',\n",
       " 'http://dbpedia.org/ontology/sportCountry',\n",
       " 'http://www.w3.org/1999/02/22-rdf-syntax-ns#langString',\n",
       " 'http://www.w3.org/2001/XMLSchema#string'}"
      ]
     },
     "execution_count": 7,
     "metadata": {},
     "output_type": "execute_result"
    }
   ],
   "source": [
    "{str(s) for s,_,_ in graph}"
   ]
  },
  {
   "cell_type": "code",
   "execution_count": null,
   "metadata": {},
   "outputs": [],
   "source": []
  },
  {
   "cell_type": "code",
   "execution_count": 8,
   "metadata": {},
   "outputs": [],
   "source": [
    "gold_standard = pd.read_csv('../datafiles/lcquad_test_gold.csv')"
   ]
  },
  {
   "cell_type": "code",
   "execution_count": 9,
   "metadata": {},
   "outputs": [
    {
     "data": {
      "text/plain": [
       "' SELECT DISTINCT ?uri WHERE { <http://dbpedia.org/resource/Marine_Corps_Air_Station_Kaneohe_Bay> <http://dbpedia.org/property/architect> ?uri. <http://dbpedia.org/resource/New_Sanno_Hotel> <http://dbpedia.org/ontology/tenant> ?uri} '"
      ]
     },
     "execution_count": 9,
     "metadata": {},
     "output_type": "execute_result"
    }
   ],
   "source": [
    "gold_standard.sparql_query[0]"
   ]
  },
  {
   "cell_type": "code",
   "execution_count": 10,
   "metadata": {},
   "outputs": [],
   "source": [
    "import re\n",
    "\n",
    "pattern = r'<(http[s]?://[^ >]*dbpedia\\.org[^ >]*)>'\n",
    "#pattern = r'<(http[s]?://[^ >]*dbpedia\\.org/resource/(?!([A-Z]|%[0-9A-F]{2}))[^ >]*)>' # no resources from database\n"
   ]
  },
  {
   "cell_type": "code",
   "execution_count": 11,
   "metadata": {},
   "outputs": [],
   "source": [
    "gold_standard['identifiers'] = gold_standard.sparql_query.apply( lambda x : set(re.findall(pattern, x)))"
   ]
  },
  {
   "cell_type": "code",
   "execution_count": 12,
   "metadata": {},
   "outputs": [
    {
     "data": {
      "text/plain": [
       "0      {http://dbpedia.org/ontology/tenant, http://db...\n",
       "1      {http://dbpedia.org/resource/Muslim_Brotherhoo...\n",
       "2      {http://dbpedia.org/property/developer, http:/...\n",
       "3      {http://dbpedia.org/resource/Eric_Schiller, ht...\n",
       "4      {http://dbpedia.org/ontology/industry, http://...\n",
       "                             ...                        \n",
       "995    {http://dbpedia.org/resource/Judaism, http://d...\n",
       "996    {http://dbpedia.org/resource/American_Hockey_L...\n",
       "997    {http://dbpedia.org/resource/Easy_Street_(film...\n",
       "998    {http://dbpedia.org/property/school, http://db...\n",
       "999    {http://dbpedia.org/resource/Richard_Coke, htt...\n",
       "Name: identifiers, Length: 1000, dtype: object"
      ]
     },
     "execution_count": 12,
     "metadata": {},
     "output_type": "execute_result"
    }
   ],
   "source": [
    "gold_standard['identifiers']"
   ]
  },
  {
   "cell_type": "code",
   "execution_count": 48,
   "metadata": {},
   "outputs": [],
   "source": [
    "for s,p,o in dbpedia_graph:\n",
    "    if 'resource' in p:\n",
    "        print(o)"
   ]
  },
  {
   "cell_type": "code",
   "execution_count": 26,
   "metadata": {},
   "outputs": [
    {
     "data": {
      "text/plain": [
       "\"{'head': {'link': [], 'vars': ['uri']}, 'results': {'distinct': False, 'ordered': True, 'bindings': [{'uri': {'type': 'uri', 'value': 'http://dbpedia.org/resource/United_States_Navy'}}]}}\""
      ]
     },
     "execution_count": 26,
     "metadata": {},
     "output_type": "execute_result"
    }
   ],
   "source": [
    "gold_standard.output[0]"
   ]
  },
  {
   "cell_type": "code",
   "execution_count": 51,
   "metadata": {},
   "outputs": [
    {
     "data": {
      "text/plain": [
       "'SELECT DISTINCT ?uri WHERE { ?x <http://dbpedia.org/property/international> <http://dbpedia.org/resource/Muslim_Brotherhood> . ?x <http://dbpedia.org/ontology/religion> ?uri  . ?x <http://www.w3.org/1999/02/22-rdf-syntax-ns#type> <http://dbpedia.org/ontology/PoliticalParty>}'"
      ]
     },
     "execution_count": 51,
     "metadata": {},
     "output_type": "execute_result"
    }
   ],
   "source": [
    "gold_standard.sparql_query[1]"
   ]
  }
 ],
 "metadata": {
  "kernelspec": {
   "display_name": "base",
   "language": "python",
   "name": "python3"
  },
  "language_info": {
   "codemirror_mode": {
    "name": "ipython",
    "version": 3
   },
   "file_extension": ".py",
   "mimetype": "text/x-python",
   "name": "python",
   "nbconvert_exporter": "python",
   "pygments_lexer": "ipython3",
   "version": "3.10.13"
  }
 },
 "nbformat": 4,
 "nbformat_minor": 2
}
